{
 "cells": [
  {
   "cell_type": "code",
   "execution_count": 3,
   "metadata": {},
   "outputs": [],
   "source": [
    "def get_amount():\n",
    "    x=2\n",
    "    while True:\n",
    "        a = input(\"Enter amount of A: \")\n",
    "        try:\n",
    "            val = int(a)\n",
    "            if val <= 0:\n",
    "                print(\"Amount can't be Zero, try again\")\n",
    "            else:\n",
    "                break\n",
    "        except ValueError:\n",
    "            print(\"Amount must be a number, try again\")\n",
    "        \n",
    "    while True: \n",
    "        b = input(\"Enter amount of B: \")\n",
    "        try:\n",
    "            val1 = int(b)\n",
    "            if val1 <= 0:\n",
    "                print(\"Amount can't be Zero, try again\")\n",
    "            else:\n",
    "                break\n",
    "        except ValueError:\n",
    "            print(\"Amount must be a number, try again\")   \n",
    "\n",
    "    while True: \n",
    "        c = input(\"Enter amount of C: \")\n",
    "        try:\n",
    "            val2 = int(c)\n",
    "            if val2 <= 0:\n",
    "                print(\"Amount can't be Zero, try again\")\n",
    "            else:\n",
    "                formula = (val*x**2)+(val1*x)+val2\n",
    "                print(formula)\n",
    "                break\n",
    "        except ValueError:\n",
    "            print(\"Amount must be a number, try again\") "
   ]
  },
  {
   "cell_type": "code",
   "execution_count": 4,
   "metadata": {},
   "outputs": [
    {
     "name": "stdout",
     "output_type": "stream",
     "text": [
      "Enter amount of A: 1\n",
      "Enter amount of B: 2\n",
      "Enter amount of C: 3\n",
      "11\n"
     ]
    }
   ],
   "source": [
    "get_amount()"
   ]
  },
  {
   "cell_type": "code",
   "execution_count": null,
   "metadata": {},
   "outputs": [],
   "source": []
  }
 ],
 "metadata": {
  "kernelspec": {
   "display_name": "Python 3",
   "language": "python",
   "name": "python3"
  },
  "language_info": {
   "codemirror_mode": {
    "name": "ipython",
    "version": 3
   },
   "file_extension": ".py",
   "mimetype": "text/x-python",
   "name": "python",
   "nbconvert_exporter": "python",
   "pygments_lexer": "ipython3",
   "version": "3.7.6"
  }
 },
 "nbformat": 4,
 "nbformat_minor": 4
}
